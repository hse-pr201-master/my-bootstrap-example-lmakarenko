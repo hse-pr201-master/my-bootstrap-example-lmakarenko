{
  "nbformat": 4,
  "nbformat_minor": 0,
  "metadata": {
    "colab": {
      "provenance": []
    },
    "kernelspec": {
      "name": "python3",
      "display_name": "Python 3"
    },
    "language_info": {
      "name": "python"
    }
  },
  "cells": [
    {
      "cell_type": "code",
      "execution_count": null,
      "metadata": {
        "id": "YW_JbQgN1UYz"
      },
      "outputs": [],
      "source": [
        "import numpy as np\n",
        "import pandas as pd\n",
        "import scipy.stats as st\n",
        "import math\n",
        "import seaborn as sns\n",
        "import matplotlib.pyplot as plt\n",
        "#!pip install arch\n",
        "from arch.bootstrap import IIDBootstrap, IndependentSamplesBootstrap"
      ]
    },
    {
      "cell_type": "code",
      "source": [
        "def small_outliers_segment_prc(*, data, col, prc_min=0.05):\n",
        "    \"\"\"\n",
        "    Функция для выделения из значений столбца сегмента с аномально низкими значениями (метод процентилей):\n",
        "    data - датафрейм\n",
        "    col -  столбец\n",
        "    prc_min - нижний процентиль (по умолчанию 5%)\n",
        "    \"\"\"\n",
        "    return data[data[col] < data[col].quantile(prc_min)]\n",
        "\n",
        "\n",
        "def big_outliers_segment_prc(*, data, col, prc_max=0.95):\n",
        "    \"\"\"\n",
        "    Функция для выделения из значений столбца сегмента с аномально высокими значениями (метод процентилей):\n",
        "    data - датафрейм\n",
        "    col -  столбец\n",
        "    prc_max - верхний процентиль (по умолчанию 95%)\n",
        "    \"\"\"\n",
        "    return data[data[col] > data[col].quantile(prc_max)]\n",
        "\n",
        "\n",
        "def remove_outliers_prc(*, data, col, prc_min=0.05, prc_max=0.95, data_len_origin=False, remove_small=True, remove_big=True):\n",
        "    \"\"\"\n",
        "    Функция для удаления из датафрейма записей с аномально (метод процентилей) низкими и высокими значениями выбранного столбца:\n",
        "    data - датафрейм\n",
        "    col -  столбец\n",
        "    prc_min - нижний процентиль (по умолчанию 5%)\n",
        "    prc_max - верхний процентиль (по умолчанию 95%)\n",
        "    \"\"\"\n",
        "    data_len = len(data)\n",
        "    if not data_len_origin:\n",
        "        data_len_origin = data_len\n",
        "    print('Кол-во записей:', data_len)\n",
        "    data_clean = data\n",
        "    if remove_small:\n",
        "      data_clean = pd.concat([data_clean, small_outliers_segment_prc(data=data_clean, col=col, prc_min=prc_min)]).drop_duplicates(keep=False)\n",
        "    if remove_big:\n",
        "      data_clean = pd.concat([data_clean, big_outliers_segment_prc(data=data_clean, col=col, prc_max=prc_max)]).drop_duplicates(keep=False)\n",
        "    data_clean_len = len(data_clean)\n",
        "    print(f'Кол-во записей после удаления выбросов {col}: {data_clean_len}')\n",
        "    data_removed_prc = (data_len - data_clean_len) / data_len_origin\n",
        "    print(f'Кол-во удаленных записей (выбросы {col}): {data_len - data_clean_len} ({data_removed_prc:.2%})')\n",
        "    return data_clean\n",
        "\n",
        "\n",
        "def conf_int_mean(df, col, alpha=.05):\n",
        "    '''\n",
        "    Доверительный интервал для мат. ожидания численного признака,\n",
        "    с неизвестной дисперсией (используется t-статистика)\n",
        "    alpha - уровень значимости\n",
        "    '''\n",
        "    n = len(df)\n",
        "    mean = df[col].mean()\n",
        "    std = df[col].std()\n",
        "    t_crit = st.t.ppf(1 - alpha / 2, n-1)\n",
        "    i_lower = mean - t_crit * std / math.sqrt(n)\n",
        "    i_upper = mean + t_crit * std / math.sqrt(n)\n",
        "    print(f'mean: {mean}, std: {std}, t_crit: {t_crit}, i_lower: {i_lower}, i_upper: {i_upper}')\n",
        "    return (i_lower, i_upper)"
      ],
      "metadata": {
        "id": "mloM9-4XkxGm"
      },
      "execution_count": null,
      "outputs": []
    },
    {
      "cell_type": "code",
      "source": [
        "df = pd.read_csv('./data.csv')\n",
        "df.info()"
      ],
      "metadata": {
        "colab": {
          "base_uri": "https://localhost:8080/"
        },
        "id": "V70rVypaIQBw",
        "outputId": "2f58b76c-63e7-4af6-bd46-c4172fdab4e0"
      },
      "execution_count": null,
      "outputs": [
        {
          "output_type": "stream",
          "name": "stdout",
          "text": [
            "<class 'pandas.core.frame.DataFrame'>\n",
            "RangeIndex: 752 entries, 0 to 751\n",
            "Data columns (total 6 columns):\n",
            " #   Column            Non-Null Count  Dtype  \n",
            "---  ------            --------------  -----  \n",
            " 0   abonent_id        752 non-null    object \n",
            " 1   reg_start_date    752 non-null    object \n",
            " 2   reg_end_date      752 non-null    object \n",
            " 3   reg_time_seconds  752 non-null    float64\n",
            " 4   reg_time_minutes  752 non-null    float64\n",
            " 5   reg_time_hours    752 non-null    float64\n",
            "dtypes: float64(3), object(3)\n",
            "memory usage: 35.4+ KB\n"
          ]
        }
      ]
    },
    {
      "cell_type": "code",
      "source": [
        "#df[['abonent_id', 'reg_start_date', 'reg_end_date', 'reg_time_seconds', 'reg_time_minutes', 'reg_time_hours']].to_csv('data.csv', index=False)"
      ],
      "metadata": {
        "id": "iHe4iJFqIcaJ"
      },
      "execution_count": null,
      "outputs": []
    },
    {
      "cell_type": "code",
      "source": [
        "df['reg_time_minutes'] = df['reg_time_seconds'].str.replace(',', '.').astype('float') / 60"
      ],
      "metadata": {
        "id": "VVNztm4F4OQk"
      },
      "execution_count": null,
      "outputs": []
    },
    {
      "cell_type": "code",
      "source": [
        "df[['reg_time_minutes', 'reg_time_hours']].describe()"
      ],
      "metadata": {
        "colab": {
          "base_uri": "https://localhost:8080/",
          "height": 300
        },
        "id": "BD6Ach1sW1wu",
        "outputId": "07b66b2d-af2f-4311-d5c9-f3c3fb042d87"
      },
      "execution_count": null,
      "outputs": [
        {
          "output_type": "execute_result",
          "data": {
            "text/plain": [
              "       reg_time_minutes  reg_time_hours\n",
              "count        752.000000      752.000000\n",
              "mean          83.527647        1.392127\n",
              "std          768.902676       12.815045\n",
              "min            0.093047        0.001551\n",
              "25%            0.827887        0.013798\n",
              "50%            1.644306        0.027405\n",
              "75%            3.410651        0.056844\n",
              "max        14447.079903      240.784665"
            ],
            "text/html": [
              "\n",
              "  <div id=\"df-36882581-3b71-4027-99e1-b15981ecbe0b\" class=\"colab-df-container\">\n",
              "    <div>\n",
              "<style scoped>\n",
              "    .dataframe tbody tr th:only-of-type {\n",
              "        vertical-align: middle;\n",
              "    }\n",
              "\n",
              "    .dataframe tbody tr th {\n",
              "        vertical-align: top;\n",
              "    }\n",
              "\n",
              "    .dataframe thead th {\n",
              "        text-align: right;\n",
              "    }\n",
              "</style>\n",
              "<table border=\"1\" class=\"dataframe\">\n",
              "  <thead>\n",
              "    <tr style=\"text-align: right;\">\n",
              "      <th></th>\n",
              "      <th>reg_time_minutes</th>\n",
              "      <th>reg_time_hours</th>\n",
              "    </tr>\n",
              "  </thead>\n",
              "  <tbody>\n",
              "    <tr>\n",
              "      <th>count</th>\n",
              "      <td>752.000000</td>\n",
              "      <td>752.000000</td>\n",
              "    </tr>\n",
              "    <tr>\n",
              "      <th>mean</th>\n",
              "      <td>83.527647</td>\n",
              "      <td>1.392127</td>\n",
              "    </tr>\n",
              "    <tr>\n",
              "      <th>std</th>\n",
              "      <td>768.902676</td>\n",
              "      <td>12.815045</td>\n",
              "    </tr>\n",
              "    <tr>\n",
              "      <th>min</th>\n",
              "      <td>0.093047</td>\n",
              "      <td>0.001551</td>\n",
              "    </tr>\n",
              "    <tr>\n",
              "      <th>25%</th>\n",
              "      <td>0.827887</td>\n",
              "      <td>0.013798</td>\n",
              "    </tr>\n",
              "    <tr>\n",
              "      <th>50%</th>\n",
              "      <td>1.644306</td>\n",
              "      <td>0.027405</td>\n",
              "    </tr>\n",
              "    <tr>\n",
              "      <th>75%</th>\n",
              "      <td>3.410651</td>\n",
              "      <td>0.056844</td>\n",
              "    </tr>\n",
              "    <tr>\n",
              "      <th>max</th>\n",
              "      <td>14447.079903</td>\n",
              "      <td>240.784665</td>\n",
              "    </tr>\n",
              "  </tbody>\n",
              "</table>\n",
              "</div>\n",
              "    <div class=\"colab-df-buttons\">\n",
              "\n",
              "  <div class=\"colab-df-container\">\n",
              "    <button class=\"colab-df-convert\" onclick=\"convertToInteractive('df-36882581-3b71-4027-99e1-b15981ecbe0b')\"\n",
              "            title=\"Convert this dataframe to an interactive table.\"\n",
              "            style=\"display:none;\">\n",
              "\n",
              "  <svg xmlns=\"http://www.w3.org/2000/svg\" height=\"24px\" viewBox=\"0 -960 960 960\">\n",
              "    <path d=\"M120-120v-720h720v720H120Zm60-500h600v-160H180v160Zm220 220h160v-160H400v160Zm0 220h160v-160H400v160ZM180-400h160v-160H180v160Zm440 0h160v-160H620v160ZM180-180h160v-160H180v160Zm440 0h160v-160H620v160Z\"/>\n",
              "  </svg>\n",
              "    </button>\n",
              "\n",
              "  <style>\n",
              "    .colab-df-container {\n",
              "      display:flex;\n",
              "      gap: 12px;\n",
              "    }\n",
              "\n",
              "    .colab-df-convert {\n",
              "      background-color: #E8F0FE;\n",
              "      border: none;\n",
              "      border-radius: 50%;\n",
              "      cursor: pointer;\n",
              "      display: none;\n",
              "      fill: #1967D2;\n",
              "      height: 32px;\n",
              "      padding: 0 0 0 0;\n",
              "      width: 32px;\n",
              "    }\n",
              "\n",
              "    .colab-df-convert:hover {\n",
              "      background-color: #E2EBFA;\n",
              "      box-shadow: 0px 1px 2px rgba(60, 64, 67, 0.3), 0px 1px 3px 1px rgba(60, 64, 67, 0.15);\n",
              "      fill: #174EA6;\n",
              "    }\n",
              "\n",
              "    .colab-df-buttons div {\n",
              "      margin-bottom: 4px;\n",
              "    }\n",
              "\n",
              "    [theme=dark] .colab-df-convert {\n",
              "      background-color: #3B4455;\n",
              "      fill: #D2E3FC;\n",
              "    }\n",
              "\n",
              "    [theme=dark] .colab-df-convert:hover {\n",
              "      background-color: #434B5C;\n",
              "      box-shadow: 0px 1px 3px 1px rgba(0, 0, 0, 0.15);\n",
              "      filter: drop-shadow(0px 1px 2px rgba(0, 0, 0, 0.3));\n",
              "      fill: #FFFFFF;\n",
              "    }\n",
              "  </style>\n",
              "\n",
              "    <script>\n",
              "      const buttonEl =\n",
              "        document.querySelector('#df-36882581-3b71-4027-99e1-b15981ecbe0b button.colab-df-convert');\n",
              "      buttonEl.style.display =\n",
              "        google.colab.kernel.accessAllowed ? 'block' : 'none';\n",
              "\n",
              "      async function convertToInteractive(key) {\n",
              "        const element = document.querySelector('#df-36882581-3b71-4027-99e1-b15981ecbe0b');\n",
              "        const dataTable =\n",
              "          await google.colab.kernel.invokeFunction('convertToInteractive',\n",
              "                                                    [key], {});\n",
              "        if (!dataTable) return;\n",
              "\n",
              "        const docLinkHtml = 'Like what you see? Visit the ' +\n",
              "          '<a target=\"_blank\" href=https://colab.research.google.com/notebooks/data_table.ipynb>data table notebook</a>'\n",
              "          + ' to learn more about interactive tables.';\n",
              "        element.innerHTML = '';\n",
              "        dataTable['output_type'] = 'display_data';\n",
              "        await google.colab.output.renderOutput(dataTable, element);\n",
              "        const docLink = document.createElement('div');\n",
              "        docLink.innerHTML = docLinkHtml;\n",
              "        element.appendChild(docLink);\n",
              "      }\n",
              "    </script>\n",
              "  </div>\n",
              "\n",
              "\n",
              "<div id=\"df-4aa5c71b-c93b-4dc8-96eb-1cd93c64122b\">\n",
              "  <button class=\"colab-df-quickchart\" onclick=\"quickchart('df-4aa5c71b-c93b-4dc8-96eb-1cd93c64122b')\"\n",
              "            title=\"Suggest charts\"\n",
              "            style=\"display:none;\">\n",
              "\n",
              "<svg xmlns=\"http://www.w3.org/2000/svg\" height=\"24px\"viewBox=\"0 0 24 24\"\n",
              "     width=\"24px\">\n",
              "    <g>\n",
              "        <path d=\"M19 3H5c-1.1 0-2 .9-2 2v14c0 1.1.9 2 2 2h14c1.1 0 2-.9 2-2V5c0-1.1-.9-2-2-2zM9 17H7v-7h2v7zm4 0h-2V7h2v10zm4 0h-2v-4h2v4z\"/>\n",
              "    </g>\n",
              "</svg>\n",
              "  </button>\n",
              "\n",
              "<style>\n",
              "  .colab-df-quickchart {\n",
              "      --bg-color: #E8F0FE;\n",
              "      --fill-color: #1967D2;\n",
              "      --hover-bg-color: #E2EBFA;\n",
              "      --hover-fill-color: #174EA6;\n",
              "      --disabled-fill-color: #AAA;\n",
              "      --disabled-bg-color: #DDD;\n",
              "  }\n",
              "\n",
              "  [theme=dark] .colab-df-quickchart {\n",
              "      --bg-color: #3B4455;\n",
              "      --fill-color: #D2E3FC;\n",
              "      --hover-bg-color: #434B5C;\n",
              "      --hover-fill-color: #FFFFFF;\n",
              "      --disabled-bg-color: #3B4455;\n",
              "      --disabled-fill-color: #666;\n",
              "  }\n",
              "\n",
              "  .colab-df-quickchart {\n",
              "    background-color: var(--bg-color);\n",
              "    border: none;\n",
              "    border-radius: 50%;\n",
              "    cursor: pointer;\n",
              "    display: none;\n",
              "    fill: var(--fill-color);\n",
              "    height: 32px;\n",
              "    padding: 0;\n",
              "    width: 32px;\n",
              "  }\n",
              "\n",
              "  .colab-df-quickchart:hover {\n",
              "    background-color: var(--hover-bg-color);\n",
              "    box-shadow: 0 1px 2px rgba(60, 64, 67, 0.3), 0 1px 3px 1px rgba(60, 64, 67, 0.15);\n",
              "    fill: var(--button-hover-fill-color);\n",
              "  }\n",
              "\n",
              "  .colab-df-quickchart-complete:disabled,\n",
              "  .colab-df-quickchart-complete:disabled:hover {\n",
              "    background-color: var(--disabled-bg-color);\n",
              "    fill: var(--disabled-fill-color);\n",
              "    box-shadow: none;\n",
              "  }\n",
              "\n",
              "  .colab-df-spinner {\n",
              "    border: 2px solid var(--fill-color);\n",
              "    border-color: transparent;\n",
              "    border-bottom-color: var(--fill-color);\n",
              "    animation:\n",
              "      spin 1s steps(1) infinite;\n",
              "  }\n",
              "\n",
              "  @keyframes spin {\n",
              "    0% {\n",
              "      border-color: transparent;\n",
              "      border-bottom-color: var(--fill-color);\n",
              "      border-left-color: var(--fill-color);\n",
              "    }\n",
              "    20% {\n",
              "      border-color: transparent;\n",
              "      border-left-color: var(--fill-color);\n",
              "      border-top-color: var(--fill-color);\n",
              "    }\n",
              "    30% {\n",
              "      border-color: transparent;\n",
              "      border-left-color: var(--fill-color);\n",
              "      border-top-color: var(--fill-color);\n",
              "      border-right-color: var(--fill-color);\n",
              "    }\n",
              "    40% {\n",
              "      border-color: transparent;\n",
              "      border-right-color: var(--fill-color);\n",
              "      border-top-color: var(--fill-color);\n",
              "    }\n",
              "    60% {\n",
              "      border-color: transparent;\n",
              "      border-right-color: var(--fill-color);\n",
              "    }\n",
              "    80% {\n",
              "      border-color: transparent;\n",
              "      border-right-color: var(--fill-color);\n",
              "      border-bottom-color: var(--fill-color);\n",
              "    }\n",
              "    90% {\n",
              "      border-color: transparent;\n",
              "      border-bottom-color: var(--fill-color);\n",
              "    }\n",
              "  }\n",
              "</style>\n",
              "\n",
              "  <script>\n",
              "    async function quickchart(key) {\n",
              "      const quickchartButtonEl =\n",
              "        document.querySelector('#' + key + ' button');\n",
              "      quickchartButtonEl.disabled = true;  // To prevent multiple clicks.\n",
              "      quickchartButtonEl.classList.add('colab-df-spinner');\n",
              "      try {\n",
              "        const charts = await google.colab.kernel.invokeFunction(\n",
              "            'suggestCharts', [key], {});\n",
              "      } catch (error) {\n",
              "        console.error('Error during call to suggestCharts:', error);\n",
              "      }\n",
              "      quickchartButtonEl.classList.remove('colab-df-spinner');\n",
              "      quickchartButtonEl.classList.add('colab-df-quickchart-complete');\n",
              "    }\n",
              "    (() => {\n",
              "      let quickchartButtonEl =\n",
              "        document.querySelector('#df-4aa5c71b-c93b-4dc8-96eb-1cd93c64122b button');\n",
              "      quickchartButtonEl.style.display =\n",
              "        google.colab.kernel.accessAllowed ? 'block' : 'none';\n",
              "    })();\n",
              "  </script>\n",
              "</div>\n",
              "    </div>\n",
              "  </div>\n"
            ]
          },
          "metadata": {},
          "execution_count": 78
        }
      ]
    },
    {
      "cell_type": "code",
      "source": [
        "df['reg_time_hours_l'] = np.log(df['reg_time_hours'])"
      ],
      "metadata": {
        "id": "deS9PpX-KW8m"
      },
      "execution_count": null,
      "outputs": []
    },
    {
      "cell_type": "code",
      "source": [
        "# Распределение логарифма значений\n",
        "sns.displot(x=np.array(df['reg_time_hours_l']))\n",
        "plt.title('Распределение логарифма значений среднего времени регистрации пользователя', fontsize=10)\n",
        "plt.show()"
      ],
      "metadata": {
        "colab": {
          "base_uri": "https://localhost:8080/",
          "height": 526
        },
        "id": "xOP0lCOk3NvE",
        "outputId": "e78059c2-f96d-4a56-98aa-5bd389699234"
      },
      "execution_count": null,
      "outputs": [
        {
          "output_type": "display_data",
          "data": {
            "text/plain": [
              "<Figure size 500x500 with 1 Axes>"
            ],
            "image/png": "[encoded data removed]"
          },
          "metadata": {}
        }
      ]
    },
    {
      "cell_type": "markdown",
      "source": [
        "## Асимптотическая оценка 95% интервала (t-статистика)"
      ],
      "metadata": {
        "id": "EzM5w3c-lVSd"
      }
    },
    {
      "cell_type": "code",
      "source": [
        "conf_int_mean(df, 'reg_time_hours')"
      ],
      "metadata": {
        "colab": {
          "base_uri": "https://localhost:8080/"
        },
        "id": "W3vytAYvIJHo",
        "outputId": "9effeedc-e342-42ec-dd26-87671f0b556f"
      },
      "execution_count": null,
      "outputs": [
        {
          "output_type": "stream",
          "name": "stdout",
          "text": [
            "mean: 1.3921274443062792, std: 12.815044593835925, t_crit: 1.9631278115521518, i_lower: 0.4747252444139203, i_upper: 2.309529644198638\n"
          ]
        },
        {
          "output_type": "execute_result",
          "data": {
            "text/plain": [
              "(0.4747252444139203, 2.309529644198638)"
            ]
          },
          "metadata": {},
          "execution_count": 93
        }
      ]
    },
    {
      "cell_type": "code",
      "source": [
        "# В минутах\n",
        "conf_int_mean(df, 'reg_time_minutes')"
      ],
      "metadata": {
        "colab": {
          "base_uri": "https://localhost:8080/"
        },
        "id": "DzU1YtB54n9N",
        "outputId": "def3bf8e-eec2-4e33-b812-e7be98d7bece"
      },
      "execution_count": null,
      "outputs": [
        {
          "output_type": "stream",
          "name": "stdout",
          "text": [
            "mean: 83.52764666061613, std: 768.9026756722076, t_crit: 1.9631278115521518, i_lower: 28.483514664064174, i_upper: 138.57177865716807\n"
          ]
        },
        {
          "output_type": "execute_result",
          "data": {
            "text/plain": [
              "(28.483514664064174, 138.57177865716807)"
            ]
          },
          "metadata": {},
          "execution_count": 174
        }
      ]
    },
    {
      "cell_type": "code",
      "source": [
        "# В логарифмах часа\n",
        "conf_int_mean(df, 'reg_time_hours_l')"
      ],
      "metadata": {
        "colab": {
          "base_uri": "https://localhost:8080/"
        },
        "id": "kU6aZmkQKijo",
        "outputId": "8885beb6-4988-43c1-faf8-307cbdfde7c8"
      },
      "execution_count": null,
      "outputs": [
        {
          "output_type": "stream",
          "name": "stdout",
          "text": [
            "mean: -3.4017088450460435, std: 1.5263484390599642, t_crit: 1.9631278115521518, i_lower: -3.51097693268652, i_upper: -3.292440757405567\n"
          ]
        },
        {
          "output_type": "execute_result",
          "data": {
            "text/plain": [
              "(-3.51097693268652, -3.292440757405567)"
            ]
          },
          "metadata": {},
          "execution_count": 196
        }
      ]
    },
    {
      "cell_type": "code",
      "source": [
        "# Обратное преобразование с переводом в минуты\n",
        "print(math.e ** (-3.51097693268652) * 60, math.e ** (-3.292440757405567) * 60)"
      ],
      "metadata": {
        "colab": {
          "base_uri": "https://localhost:8080/"
        },
        "id": "Gt0lU_eKKoHA",
        "outputId": "096090c1-a1a1-4d2e-8637-db01880cf1cd"
      },
      "execution_count": null,
      "outputs": [
        {
          "output_type": "stream",
          "name": "stdout",
          "text": [
            "1.7920632855667111 2.22978195979848\n"
          ]
        }
      ]
    },
    {
      "cell_type": "markdown",
      "source": [
        "## Оценка 95% интервала методом бутстрэп"
      ],
      "metadata": {
        "id": "yPptS7rhq4q5"
      }
    },
    {
      "cell_type": "code",
      "source": [
        "rng = np.random.default_rng(111111)"
      ],
      "metadata": {
        "id": "DrI5zd7SV9VH"
      },
      "execution_count": null,
      "outputs": []
    },
    {
      "cell_type": "code",
      "source": [
        "x = df['reg_time_hours']\n",
        "n_boot = 1000\n",
        "mu_hat_star = [np.mean(rng.choice(x, size=len(x))) for i in range(n_boot)]"
      ],
      "metadata": {
        "id": "35-QQ-uxJUKW"
      },
      "execution_count": null,
      "outputs": []
    },
    {
      "cell_type": "code",
      "source": [
        "#mu_hat_star[1:10]"
      ],
      "metadata": {
        "id": "Vo8L-8DVWQgv"
      },
      "execution_count": null,
      "outputs": []
    },
    {
      "cell_type": "code",
      "source": [
        "# Распределение выборочных средних\n",
        "sns.displot(x=np.array(mu_hat_star))"
      ],
      "metadata": {
        "colab": {
          "base_uri": "https://localhost:8080/",
          "height": 523
        },
        "id": "o_tX3cFuXkDV",
        "outputId": "efe15ab0-171a-4a77-bdab-46a9c96bd257"
      },
      "execution_count": null,
      "outputs": [
        {
          "output_type": "execute_result",
          "data": {
            "text/plain": [
              "<seaborn.axisgrid.FacetGrid at 0x7b28d4403eb0>"
            ]
          },
          "metadata": {},
          "execution_count": 86
        },
        {
          "output_type": "display_data",
          "data": {
            "text/plain": [
              "<Figure size 500x500 with 1 Axes>"
            ],
            "image/png": "[encoded data removed]"
          },
          "metadata": {}
        }
      ]
    },
    {
      "cell_type": "code",
      "source": [
        "[np.quantile(mu_hat_star, 0.025), np.quantile(mu_hat_star, 0.975)]"
      ],
      "metadata": {
        "colab": {
          "base_uri": "https://localhost:8080/"
        },
        "id": "pY96AcUPXmhw",
        "outputId": "30b7149b-0d03-42ef-949d-ff6de7924818"
      },
      "execution_count": null,
      "outputs": [
        {
          "output_type": "execute_result",
          "data": {
            "text/plain": [
              "[0.591238555999076, 2.4481278177061645]"
            ]
          },
          "metadata": {},
          "execution_count": 87
        }
      ]
    },
    {
      "cell_type": "code",
      "source": [
        "np.quantile(mu_hat_star, 0.5)"
      ],
      "metadata": {
        "colab": {
          "base_uri": "https://localhost:8080/"
        },
        "id": "eO54C-duZSW-",
        "outputId": "853a0132-0e01-407f-f8d8-bd0ef4a0e9fa"
      },
      "execution_count": null,
      "outputs": [
        {
          "output_type": "execute_result",
          "data": {
            "text/plain": [
              "1.3360979372604604"
            ]
          },
          "metadata": {},
          "execution_count": 88
        }
      ]
    },
    {
      "cell_type": "code",
      "source": [
        "# Более простая реализация оценки интервала\n",
        "boot_x = IIDBootstrap(x, seed=111111)\n",
        "bs_conf = boot_x.conf_int(np.mean, method='percentile', reps=10000, size=0.95)\n",
        "bs_conf"
      ],
      "metadata": {
        "colab": {
          "base_uri": "https://localhost:8080/"
        },
        "id": "RyDgbVpUXvy9",
        "outputId": "5c4d4f92-f863-4726-b54f-b931c7d39885"
      },
      "execution_count": null,
      "outputs": [
        {
          "output_type": "execute_result",
          "data": {
            "text/plain": [
              "array([[0.59881616],\n",
              "       [2.43014543]])"
            ]
          },
          "metadata": {},
          "execution_count": 176
        }
      ]
    },
    {
      "cell_type": "code",
      "source": [
        "# В минутах\n",
        "bs_conf * 60"
      ],
      "metadata": {
        "colab": {
          "base_uri": "https://localhost:8080/"
        },
        "id": "oBzN693i4tJq",
        "outputId": "f4ba6892-e760-4cf5-f43e-4f677c9c8f04"
      },
      "execution_count": null,
      "outputs": [
        {
          "output_type": "execute_result",
          "data": {
            "text/plain": [
              "array([[ 35.92896972],\n",
              "       [145.80872598]])"
            ]
          },
          "metadata": {},
          "execution_count": 177
        }
      ]
    },
    {
      "cell_type": "code",
      "source": [
        "# Оценка для значений в логарифмах (минуты)\n",
        "boot_x = IIDBootstrap(df['reg_time_hours_l'], seed=111111)\n",
        "bs_conf = boot_x.conf_int(np.mean, method='percentile', reps=10000, size=0.95)\n",
        "(math.e ** bs_conf) * 60"
      ],
      "metadata": {
        "colab": {
          "base_uri": "https://localhost:8080/"
        },
        "id": "OLOXBYtmMCMs",
        "outputId": "38b059a8-2e43-4c09-da15-e1099bbc5306"
      },
      "execution_count": null,
      "outputs": [
        {
          "output_type": "execute_result",
          "data": {
            "text/plain": [
              "array([[1.79703577],\n",
              "       [2.23558528]])"
            ]
          },
          "metadata": {},
          "execution_count": 207
        }
      ]
    },
    {
      "cell_type": "markdown",
      "source": [
        "## Оценка 95% интервала для очищенных от выбросов данных"
      ],
      "metadata": {
        "id": "XpVCTNilrKUt"
      }
    },
    {
      "cell_type": "code",
      "source": [
        "# Удалим выбросы методом процентилей - исключим аномальные верхние и нижние значения (в сумме примерно 5% данных)\n",
        "df1 = remove_outliers_prc(data=df, col='reg_time_hours', prc_min=0.025, prc_max=0.975)"
      ],
      "metadata": {
        "id": "eYj8ejbWYUfy",
        "colab": {
          "base_uri": "https://localhost:8080/"
        },
        "outputId": "9719f484-4d78-46ba-ee58-bdc078bfa9e8"
      },
      "execution_count": null,
      "outputs": [
        {
          "output_type": "stream",
          "name": "stdout",
          "text": [
            "Кол-во записей: 752\n",
            "Кол-во записей после удаления выбросов reg_time_hours: 714\n",
            "Кол-во удаленных записей (выбросы reg_time_hours): 38 (5.05%)\n"
          ]
        }
      ]
    },
    {
      "cell_type": "code",
      "source": [
        "df1['reg_time_hours'].describe()"
      ],
      "metadata": {
        "colab": {
          "base_uri": "https://localhost:8080/"
        },
        "id": "Md8sFwk5tFrG",
        "outputId": "06f03d07-9d81-4bb3-e254-ca53eeed0db4"
      },
      "execution_count": null,
      "outputs": [
        {
          "output_type": "execute_result",
          "data": {
            "text/plain": [
              "count    714.000000\n",
              "mean       0.041584\n",
              "std        0.047858\n",
              "min        0.001551\n",
              "25%        0.013362\n",
              "50%        0.025742\n",
              "75%        0.050136\n",
              "max        0.325891\n",
              "Name: reg_time_hours, dtype: float64"
            ]
          },
          "metadata": {},
          "execution_count": 167
        }
      ]
    },
    {
      "cell_type": "code",
      "source": [
        "dist_plot = sns.displot(x=np.array(df1['reg_time_hours']))\n",
        "dist_plot.set(xlabel='Среднее время регистрации (часы)', ylabel='Частота')\n",
        "#plt.gcf().subplots_adjust(bottom=0.15)\n",
        "plt.title('Распределение значений среднего времени регистрации пользователя', fontsize=10)\n",
        "plt.show()"
      ],
      "metadata": {
        "colab": {
          "base_uri": "https://localhost:8080/",
          "height": 545
        },
        "id": "iXIPkHMF-JX1",
        "outputId": "7d6e1841-f1a4-4a0e-ea43-849a8bf7127c"
      },
      "execution_count": null,
      "outputs": [
        {
          "output_type": "display_data",
          "data": {
            "text/plain": [
              "<Figure size 500x500 with 1 Axes>"
            ],
            "image/png": "[encoded data removed]"
          },
          "metadata": {}
        }
      ]
    },
    {
      "cell_type": "code",
      "source": [
        "#dist_plot.figure.savefig('mart_distr.png', bbox_inches=\"tight\")"
      ],
      "metadata": {
        "id": "WYzdJeDYd_2n"
      },
      "execution_count": null,
      "outputs": []
    },
    {
      "cell_type": "code",
      "source": [
        "conf_int_mean(df1, 'reg_time_hours')"
      ],
      "metadata": {
        "colab": {
          "base_uri": "https://localhost:8080/"
        },
        "id": "hr-qU7I7-4QP",
        "outputId": "0c37f7eb-2039-4145-df50-7120d18a2590"
      },
      "execution_count": null,
      "outputs": [
        {
          "output_type": "stream",
          "name": "stdout",
          "text": [
            "mean: 0.057032160580750696, std: 0.10508714535390144, t_crit: 1.963296712290147, i_lower: 0.04931093166879912, i_upper: 0.06475338949270228\n"
          ]
        },
        {
          "output_type": "execute_result",
          "data": {
            "text/plain": [
              "(0.04931093166879912, 0.06475338949270228)"
            ]
          },
          "metadata": {},
          "execution_count": 183
        }
      ]
    },
    {
      "cell_type": "code",
      "source": [
        "# В минутах\n",
        "conf_int_mean(df1, 'reg_time_minutes')"
      ],
      "metadata": {
        "colab": {
          "base_uri": "https://localhost:8080/"
        },
        "id": "3mJ-tP9q5C3S",
        "outputId": "721423ec-8a9c-4d79-8464-e55934eec969"
      },
      "execution_count": null,
      "outputs": [
        {
          "output_type": "stream",
          "name": "stdout",
          "text": [
            "mean: 3.4219296348506067, std: 6.305228721195292, t_crit: 1.963296712290147, i_lower: 2.9586559001363626, i_upper: 3.885203369564851\n"
          ]
        },
        {
          "output_type": "execute_result",
          "data": {
            "text/plain": [
              "(2.9586559001363626, 3.885203369564851)"
            ]
          },
          "metadata": {},
          "execution_count": 184
        }
      ]
    },
    {
      "cell_type": "code",
      "source": [
        "boot_x = IIDBootstrap(df1['reg_time_hours'], seed=111111)\n",
        "bs_conf = boot_x.conf_int(np.mean, method='percentile', reps=10000, size=0.95)\n",
        "bs_conf"
      ],
      "metadata": {
        "colab": {
          "base_uri": "https://localhost:8080/"
        },
        "id": "5L9bSRin-9n9",
        "outputId": "889023fd-22a8-4f04-c0cd-4da71dec66d3"
      },
      "execution_count": null,
      "outputs": [
        {
          "output_type": "execute_result",
          "data": {
            "text/plain": [
              "array([[0.0495971 ],\n",
              "       [0.06505129]])"
            ]
          },
          "metadata": {},
          "execution_count": 185
        }
      ]
    },
    {
      "cell_type": "code",
      "source": [
        "# В минутах\n",
        "bs_conf * 60"
      ],
      "metadata": {
        "colab": {
          "base_uri": "https://localhost:8080/"
        },
        "id": "ixWVjz-Y5MR_",
        "outputId": "47fcb8ec-1181-449c-d5b3-7dda72ac8c52"
      },
      "execution_count": null,
      "outputs": [
        {
          "output_type": "execute_result",
          "data": {
            "text/plain": [
              "array([[2.97582619],\n",
              "       [3.90307732]])"
            ]
          },
          "metadata": {},
          "execution_count": 186
        }
      ]
    },
    {
      "cell_type": "code",
      "source": [
        "# Более детально\n",
        "x1 = df1['reg_time_hours']\n",
        "n_boot = 1000\n",
        "mu_hat_star1 = [np.mean(rng.choice(x1, size=len(x1))) for i in range(n_boot)]"
      ],
      "metadata": {
        "id": "i7VCKICc_D2L"
      },
      "execution_count": null,
      "outputs": []
    },
    {
      "cell_type": "code",
      "source": [
        "sns.displot(x=np.array(mu_hat_star1))"
      ],
      "metadata": {
        "colab": {
          "base_uri": "https://localhost:8080/",
          "height": 523
        },
        "id": "DJ1jyCvYAPfD",
        "outputId": "c396919f-75a2-4bb9-f96b-f6e68a853a51"
      },
      "execution_count": null,
      "outputs": [
        {
          "output_type": "execute_result",
          "data": {
            "text/plain": [
              "<seaborn.axisgrid.FacetGrid at 0x7b28c4afe7d0>"
            ]
          },
          "metadata": {},
          "execution_count": 143
        },
        {
          "output_type": "display_data",
          "data": {
            "text/plain": [
              "<Figure size 500x500 with 1 Axes>"
            ],
            "image/png": "[encoded data removed]"
          },
          "metadata": {}
        }
      ]
    },
    {
      "cell_type": "code",
      "source": [],
      "metadata": {
        "id": "oyIxLwWZAaG8"
      },
      "execution_count": null,
      "outputs": []
    }
  ]
}